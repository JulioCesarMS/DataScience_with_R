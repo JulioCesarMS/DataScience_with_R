{
 "cells": [
  {
   "cell_type": "markdown",
   "metadata": {},
   "source": [
    "# K-Nearest Neighbors"
   ]
  },
  {
   "cell_type": "markdown",
   "metadata": {},
   "source": [
    "The nearest neighbors algorithm is part of a family of algorithms that are known as lazy learners. These types of learners do not\n",
    "build a model, which means they do not really do any learning.\n",
    "Instead, they simply refer to the training data during the prediction\n",
    "phase in order to assign labels to unlabeled data. Lazy learners are\n",
    "also referred to as instance-based learners or rote learners due to \n",
    "their heavy reliance on the training set. Despite the simplicity of\n",
    "lazy learners, such as the k-nearest neighbors approach, they are\n",
    "powerful in dealing with difficult-to-understand data that have a\n",
    "large number of features with a large number of instances of fairly\n",
    "similar class. \n",
    "\n",
    "The k-nearest neighbors method is premised on the basic idea that things that are similar\n",
    "are likely to have properties that are similar. Therefore, to assign a class to new data,\n",
    "we first find k instances of existing data that are as similar as possible (nearest neighbors)\n",
    "to the new data. Then, we use the labels of those nearest neighbors to predict the\n",
    "label of the new data.\n",
    "\n",
    "## Dataset Heart Desease\n",
    "\n",
    "As we explore the nearest neighbors algorithm in this chapter, we will use a dataset\n",
    "containing information about patients with and without heart disease. This dataset was\n",
    "initially gathered for use by researchers at four medical institutions in the United States,\n",
    "Switzerland, and Hungary and is made available to the data science community through\n",
    "the University of California at Irvine’s Machine Learning Repository\n",
    "\n",
    "The dataset includes a variety of medical data for our analysis:\n",
    "- $age$ is the age, in years, of the patient.\n",
    "- $sex$ is the biological sex of the patient.\n",
    "- $painType$ describes the type of chest pain, if any, reported by the patient. The\n",
    "options for this variable are: Typical angina, Atypical angina, Nonanginal pain, and  Asymptomatic (no pain).\n",
    "- $restingBP$ is the patient’s systolic blood pressure at rest, measured in millimeters\n",
    "of mercury.\n",
    "- $cholesterol$ is the patient’s total cholesterol, measured in milligrams per liter.\n",
    "- $highBloodSugar$ is a logical value indicating whether the patient has a fasting\n",
    "blood sugar reading greater than 120 milligrams per deciliter.\n",
    "- $restingECG$ is a categorical variable providing an interpretation of the patient’s\n",
    "resting electrocardiographic results. The possible values are: Normal, Hypertrophy, WaveAbnormality.\n",
    "- $exerciseAngina$ is a logical value indicating whether the patient experiences\n",
    "exercise-induced angina.\n",
    "- $STdepression$ is a numeric evaluation of the patient’s degree of ST depression,\n",
    "an electrocardiogram finding related to heart disease.\n",
    "- $STslope$ is a categorical value describing the slope of the patient’s ST segment on\n",
    "an electrocardiogram. It may have these values: Downsloping, Flat, Upsloping.\n",
    "- $coloredVessels$ is the number of major vessels that appear colored when subjected\n",
    "to fluoroscopy. This value ranges from 0 to 3.\n",
    "- $defectType$ is a categorical value describing a defect identified in the patient’s\n",
    "heart. It may have these values: Normal, ReversibleDefect, FixedDefect.\n",
    "- $heartDisease$ is the variable we are trying to predict. It is a logical value that is\n",
    "TRUE if the patient suffers from heart disease and FALSE if he or she does not.\n",
    "\n",
    "\n",
    "## k-Nearest Neighbors\n",
    "The k-nearest neighbors method is premised on the basic idea that things that are similar\n",
    "are likely to have properties that are similar. Therefore, to assign a class to new data,\n",
    "we first find k instances of existing data that are as similar as possible (nearest neighbors)\n",
    "to the new data. Then, we use the labels of those nearest neighbors to predict the\n",
    "label of the new data.\n",
    "\n",
    "To illustrate how k-NN works, let’s attempt to deal with the problem we introduced\n",
    "in the previous section. Our goal is to use the existing set of patient records to predict\n",
    "whether a new patient is likely to suffer from heart disease or not. To keep things simple,\n",
    "let’s limit our analysis to only two of the predictor variables in our dataset: age and cholesterol. Our class variable is heartDisease.\n",
    "\n",
    "Now, consider a hypothetical 45-year-old new patient with a cholesterol level of 225.\n",
    "Based on their cholesterol level and age alone, how could we determine whether they\n",
    "suffer from heart disease or not? Using the k-nearest neighbors approach, the first thing\n",
    "we do is find the k most similar patients to our new patient in our dataset. These are the\n",
    "nearest neighbors to our new patient. Then, we assign the label of the most common\n",
    "class among the neighbors to our new patient. To illustrate this approach, we add a new\n",
    "data point to our previous scatterplot that represents the new patient.\n",
    "\n",
    "![title](images/ima1.png)\n",
    "\n",
    "If k is set to 1, we identify the one existing data point that is closest to our new data\n",
    "point. By visual inspection, we can see that this is either patient 11 or patient 9. Let’s\n",
    "assume that it is patient 9. This patient does not suffer from heart disease. Therefore, we\n",
    "will classify our new patient as also not suffering from heart disease. However, if k were\n",
    "set to 3, the three nearest neighbors to our new patient are patients 9, 11, and 5. Since\n",
    "the most common class among these three patients is TRUE for heart disease, then we\n",
    "would classify our new patient as suffering from heart disease as well.\n",
    "\n",
    "To quantify the distance between two points, the k-nearest neighbors\n",
    "algorithm uses a distance function that works for data with more than two dimensions.\n",
    "This measure is known as Euclidean distance.\n",
    "\n",
    "Euclidean distance is the straight-line distance between the coordinates of two points\n",
    "in multidimensional space. Mathematically, we define the Euclidean distance between\n",
    "two points p and q as follows:\n",
    "\n",
    "$$ dist(p,q) = \\sqrt{(p_1 - q_1)^2 + (p_2 - q_2)^2 + .... + (p_n - q_n)^2}$$\n",
    "\n",
    "\n",
    "## References:\n",
    "\n",
    "\n",
    "-- Practical Machine Learning in R, First Edition. Fred Nwanganga and Mike Chapple."
   ]
  },
  {
   "cell_type": "markdown",
   "metadata": {},
   "source": [
    "## Pros\n",
    "-  Very simple.\n",
    "- Training is trivial.\n",
    "- Works with any number of classes.\n",
    "- Easy to add more data.\n",
    "- Few parametres: K, distance mretic.\n",
    "\n",
    "## Cons\n",
    "- High prediction cost\n",
    "- Not good for high dimensional data.\n",
    "- Categorical Feature don't work well.\n"
   ]
  },
  {
   "cell_type": "markdown",
   "metadata": {},
   "source": [
    "# Practical example with R"
   ]
  },
  {
   "cell_type": "code",
   "execution_count": 2,
   "metadata": {},
   "outputs": [],
   "source": [
    "#install.packages(\"caTools\")\n",
    "library(\"ISLR\")\n",
    "library(\"caTools\")\n",
    "library(\"dplyr\")\n",
    "library(\"class\") # knn\n",
    "library(\"ggplot2\")\n",
    "options(repr.plot.width = 16, repr.plot.height = 6)"
   ]
  },
  {
   "cell_type": "code",
   "execution_count": 10,
   "metadata": {},
   "outputs": [
    {
     "name": "stdout",
     "output_type": "stream",
     "text": [
      "'data.frame':\t5822 obs. of  86 variables:\n",
      " $ MOSTYPE : num  33 37 37 9 40 23 39 33 33 11 ...\n",
      " $ MAANTHUI: num  1 1 1 1 1 1 2 1 1 2 ...\n",
      " $ MGEMOMV : num  3 2 2 3 4 2 3 2 2 3 ...\n",
      " $ MGEMLEEF: num  2 2 2 3 2 1 2 3 4 3 ...\n",
      " $ MOSHOOFD: num  8 8 8 3 10 5 9 8 8 3 ...\n",
      " $ MGODRK  : num  0 1 0 2 1 0 2 0 0 3 ...\n",
      " $ MGODPR  : num  5 4 4 3 4 5 2 7 1 5 ...\n",
      " $ MGODOV  : num  1 1 2 2 1 0 0 0 3 0 ...\n",
      " $ MGODGE  : num  3 4 4 4 4 5 5 2 6 2 ...\n",
      " $ MRELGE  : num  7 6 3 5 7 0 7 7 6 7 ...\n",
      " $ MRELSA  : num  0 2 2 2 1 6 2 2 0 0 ...\n",
      " $ MRELOV  : num  2 2 4 2 2 3 0 0 3 2 ...\n",
      " $ MFALLEEN: num  1 0 4 2 2 3 0 0 3 2 ...\n",
      " $ MFGEKIND: num  2 4 4 3 4 5 3 5 3 2 ...\n",
      " $ MFWEKIND: num  6 5 2 4 4 2 6 4 3 6 ...\n",
      " $ MOPLHOOG: num  1 0 0 3 5 0 0 0 0 0 ...\n",
      " $ MOPLMIDD: num  2 5 5 4 4 5 4 3 1 4 ...\n",
      " $ MOPLLAAG: num  7 4 4 2 0 4 5 6 8 5 ...\n",
      " $ MBERHOOG: num  1 0 0 4 0 2 0 2 1 2 ...\n",
      " $ MBERZELF: num  0 0 0 0 5 0 0 0 1 0 ...\n",
      " $ MBERBOER: num  1 0 0 0 4 0 0 0 0 0 ...\n",
      " $ MBERMIDD: num  2 5 7 3 0 4 4 2 1 3 ...\n",
      " $ MBERARBG: num  5 0 0 1 0 2 1 5 8 3 ...\n",
      " $ MBERARBO: num  2 4 2 2 0 2 5 2 1 3 ...\n",
      " $ MSKA    : num  1 0 0 3 9 2 0 2 1 1 ...\n",
      " $ MSKB1   : num  1 2 5 2 0 2 1 1 1 2 ...\n",
      " $ MSKB2   : num  2 3 0 1 0 2 4 2 0 1 ...\n",
      " $ MSKC    : num  6 5 4 4 0 4 5 5 8 4 ...\n",
      " $ MSKD    : num  1 0 0 0 0 2 0 2 1 2 ...\n",
      " $ MHHUUR  : num  1 2 7 5 4 9 6 0 9 0 ...\n",
      " $ MHKOOP  : num  8 7 2 4 5 0 3 9 0 9 ...\n",
      " $ MAUT1   : num  8 7 7 9 6 5 8 4 5 6 ...\n",
      " $ MAUT2   : num  0 1 0 0 2 3 0 4 2 1 ...\n",
      " $ MAUT0   : num  1 2 2 0 1 3 1 2 3 2 ...\n",
      " $ MZFONDS : num  8 6 9 7 5 9 9 6 7 6 ...\n",
      " $ MZPART  : num  1 3 0 2 4 0 0 3 2 3 ...\n",
      " $ MINKM30 : num  0 2 4 1 0 5 4 2 7 2 ...\n",
      " $ MINK3045: num  4 0 5 5 0 2 3 5 2 3 ...\n",
      " $ MINK4575: num  5 5 0 3 9 3 3 3 1 3 ...\n",
      " $ MINK7512: num  0 2 0 0 0 0 0 0 0 1 ...\n",
      " $ MINK123M: num  0 0 0 0 0 0 0 0 0 0 ...\n",
      " $ MINKGEM : num  4 5 3 4 6 3 3 3 2 4 ...\n",
      " $ MKOOPKLA: num  3 4 4 4 3 3 5 3 3 7 ...\n",
      " $ PWAPART : num  0 2 2 0 0 0 0 0 0 2 ...\n",
      " $ PWABEDR : num  0 0 0 0 0 0 0 0 0 0 ...\n",
      " $ PWALAND : num  0 0 0 0 0 0 0 0 0 0 ...\n",
      " $ PPERSAUT: num  6 0 6 6 0 6 6 0 5 0 ...\n",
      " $ PBESAUT : num  0 0 0 0 0 0 0 0 0 0 ...\n",
      " $ PMOTSCO : num  0 0 0 0 0 0 0 0 0 0 ...\n",
      " $ PVRAAUT : num  0 0 0 0 0 0 0 0 0 0 ...\n",
      " $ PAANHANG: num  0 0 0 0 0 0 0 0 0 0 ...\n",
      " $ PTRACTOR: num  0 0 0 0 0 0 0 0 0 0 ...\n",
      " $ PWERKT  : num  0 0 0 0 0 0 0 0 0 0 ...\n",
      " $ PBROM   : num  0 0 0 0 0 0 0 3 0 0 ...\n",
      " $ PLEVEN  : num  0 0 0 0 0 0 0 0 0 0 ...\n",
      " $ PPERSONG: num  0 0 0 0 0 0 0 0 0 0 ...\n",
      " $ PGEZONG : num  0 0 0 0 0 0 0 0 0 0 ...\n",
      " $ PWAOREG : num  0 0 0 0 0 0 0 0 0 0 ...\n",
      " $ PBRAND  : num  5 2 2 2 6 0 0 0 0 3 ...\n",
      " $ PZEILPL : num  0 0 0 0 0 0 0 0 0 0 ...\n",
      " $ PPLEZIER: num  0 0 0 0 0 0 0 0 0 0 ...\n",
      " $ PFIETS  : num  0 0 0 0 0 0 0 0 0 0 ...\n",
      " $ PINBOED : num  0 0 0 0 0 0 0 0 0 0 ...\n",
      " $ PBYSTAND: num  0 0 0 0 0 0 0 0 0 0 ...\n",
      " $ AWAPART : num  0 2 1 0 0 0 0 0 0 1 ...\n",
      " $ AWABEDR : num  0 0 0 0 0 0 0 0 0 0 ...\n",
      " $ AWALAND : num  0 0 0 0 0 0 0 0 0 0 ...\n",
      " $ APERSAUT: num  1 0 1 1 0 1 1 0 1 0 ...\n",
      " $ ABESAUT : num  0 0 0 0 0 0 0 0 0 0 ...\n",
      " $ AMOTSCO : num  0 0 0 0 0 0 0 0 0 0 ...\n",
      " $ AVRAAUT : num  0 0 0 0 0 0 0 0 0 0 ...\n",
      " $ AAANHANG: num  0 0 0 0 0 0 0 0 0 0 ...\n",
      " $ ATRACTOR: num  0 0 0 0 0 0 0 0 0 0 ...\n",
      " $ AWERKT  : num  0 0 0 0 0 0 0 0 0 0 ...\n",
      " $ ABROM   : num  0 0 0 0 0 0 0 1 0 0 ...\n",
      " $ ALEVEN  : num  0 0 0 0 0 0 0 0 0 0 ...\n",
      " $ APERSONG: num  0 0 0 0 0 0 0 0 0 0 ...\n",
      " $ AGEZONG : num  0 0 0 0 0 0 0 0 0 0 ...\n",
      " $ AWAOREG : num  0 0 0 0 0 0 0 0 0 0 ...\n",
      " $ ABRAND  : num  1 1 1 1 1 0 0 0 0 1 ...\n",
      " $ AZEILPL : num  0 0 0 0 0 0 0 0 0 0 ...\n",
      " $ APLEZIER: num  0 0 0 0 0 0 0 0 0 0 ...\n",
      " $ AFIETS  : num  0 0 0 0 0 0 0 0 0 0 ...\n",
      " $ AINBOED : num  0 0 0 0 0 0 0 0 0 0 ...\n",
      " $ ABYSTAND: num  0 0 0 0 0 0 0 0 0 0 ...\n",
      " $ Purchase: Factor w/ 2 levels \"No\",\"Yes\": 1 1 1 1 1 1 1 1 1 1 ...\n"
     ]
    }
   ],
   "source": [
    "str(Caravan)"
   ]
  },
  {
   "cell_type": "code",
   "execution_count": 143,
   "metadata": {},
   "outputs": [
    {
     "data": {
      "text/html": [
       "<style>\n",
       ".dl-inline {width: auto; margin:0; padding: 0}\n",
       ".dl-inline>dt, .dl-inline>dd {float: none; width: auto; display: inline-block}\n",
       ".dl-inline>dt::after {content: \":\\0020\"; padding-right: .5ex}\n",
       ".dl-inline>dt:not(:first-of-type) {padding-left: .5ex}\n",
       "</style><dl class=dl-inline><dt>No</dt><dd>5474</dd><dt>Yes</dt><dd>348</dd></dl>\n"
      ],
      "text/latex": [
       "\\begin{description*}\n",
       "\\item[No] 5474\n",
       "\\item[Yes] 348\n",
       "\\end{description*}\n"
      ],
      "text/markdown": [
       "No\n",
       ":   5474Yes\n",
       ":   348\n",
       "\n"
      ],
      "text/plain": [
       "  No  Yes \n",
       "5474  348 "
      ]
     },
     "metadata": {},
     "output_type": "display_data"
    }
   ],
   "source": [
    "summary(Caravan$Purchase)"
   ]
  },
  {
   "cell_type": "code",
   "execution_count": 144,
   "metadata": {},
   "outputs": [
    {
     "data": {
      "text/html": [
       "FALSE"
      ],
      "text/latex": [
       "FALSE"
      ],
      "text/markdown": [
       "FALSE"
      ],
      "text/plain": [
       "[1] FALSE"
      ]
     },
     "metadata": {},
     "output_type": "display_data"
    }
   ],
   "source": [
    "# check NA values\n",
    "any(is.na(Caravan))"
   ]
  },
  {
   "cell_type": "code",
   "execution_count": 145,
   "metadata": {},
   "outputs": [],
   "source": [
    "x <- Caravan %>% select(-Purchase)\n",
    "y <- Caravan %>% select(Purchase)"
   ]
  },
  {
   "cell_type": "markdown",
   "metadata": {},
   "source": [
    "> Standarization"
   ]
  },
  {
   "cell_type": "code",
   "execution_count": 146,
   "metadata": {},
   "outputs": [],
   "source": [
    "# standarization\n",
    "x.standarized  <- scale(x)"
   ]
  },
  {
   "cell_type": "markdown",
   "metadata": {},
   "source": [
    "> Train test split"
   ]
  },
  {
   "cell_type": "code",
   "execution_count": 147,
   "metadata": {},
   "outputs": [],
   "source": [
    "set.seed(123)\n",
    "split <- sample.split(y, SplitRatio=0.6)"
   ]
  },
  {
   "cell_type": "code",
   "execution_count": 148,
   "metadata": {},
   "outputs": [],
   "source": [
    "# \n",
    "x_train <- subset(x.standarized, split=TRUE)\n",
    "x_test <- subset(x.standarized, split=FALSE)\n",
    "# target\n",
    "y_train <- subset(y, split=TRUE) %>% pull()\n",
    "y_test <- subset(y, split=FALSE) %>% pull()\n"
   ]
  },
  {
   "cell_type": "markdown",
   "metadata": {},
   "source": [
    "> knn() function\n",
    "\n",
    "arguments:\n",
    "\n",
    "- train\t: matrix or data frame of training set cases.\n",
    "\n",
    "- test : matrix or data frame of test set cases. A vector will be interpreted as a row vector for a single case.\n",
    "\n",
    "- cl : factor of true classifications of training set.\n",
    "    \n",
    "- k\t: number of neighbours considered."
   ]
  },
  {
   "cell_type": "code",
   "execution_count": 149,
   "metadata": {},
   "outputs": [],
   "source": [
    "y_pred <- knn(train=x_train, test= x_test, cl=y_train, k=3)\n"
   ]
  },
  {
   "cell_type": "code",
   "execution_count": 150,
   "metadata": {},
   "outputs": [
    {
     "data": {
      "text/html": [
       "<table class=\"dataframe\">\n",
       "<caption>A data.frame: 6 × 87</caption>\n",
       "<thead>\n",
       "\t<tr><th></th><th scope=col>MOSTYPE</th><th scope=col>MAANTHUI</th><th scope=col>MGEMOMV</th><th scope=col>MGEMLEEF</th><th scope=col>MOSHOOFD</th><th scope=col>MGODRK</th><th scope=col>MGODPR</th><th scope=col>MGODOV</th><th scope=col>MGODGE</th><th scope=col>MRELGE</th><th scope=col>...</th><th scope=col>AGEZONG</th><th scope=col>AWAOREG</th><th scope=col>ABRAND</th><th scope=col>AZEILPL</th><th scope=col>APLEZIER</th><th scope=col>AFIETS</th><th scope=col>AINBOED</th><th scope=col>ABYSTAND</th><th scope=col>Purchase</th><th scope=col>Purchase.pred</th></tr>\n",
       "\t<tr><th></th><th scope=col>&lt;dbl&gt;</th><th scope=col>&lt;dbl&gt;</th><th scope=col>&lt;dbl&gt;</th><th scope=col>&lt;dbl&gt;</th><th scope=col>&lt;dbl&gt;</th><th scope=col>&lt;dbl&gt;</th><th scope=col>&lt;dbl&gt;</th><th scope=col>&lt;dbl&gt;</th><th scope=col>&lt;dbl&gt;</th><th scope=col>&lt;dbl&gt;</th><th scope=col>...</th><th scope=col>&lt;dbl&gt;</th><th scope=col>&lt;dbl&gt;</th><th scope=col>&lt;dbl&gt;</th><th scope=col>&lt;dbl&gt;</th><th scope=col>&lt;dbl&gt;</th><th scope=col>&lt;dbl&gt;</th><th scope=col>&lt;dbl&gt;</th><th scope=col>&lt;dbl&gt;</th><th scope=col>&lt;fct&gt;</th><th scope=col>&lt;fct&gt;</th></tr>\n",
       "</thead>\n",
       "<tbody>\n",
       "\t<tr><th scope=row>1</th><td> 0.68084775</td><td>-0.2725565</td><td> 0.4066617</td><td>-1.21685949</td><td> 0.7793384</td><td>-0.6942510</td><td> 0.2174254</td><td>-0.06870474</td><td>-0.1618019</td><td> 0.42763309</td><td>...</td><td>-0.08104764</td><td>-0.05991487</td><td> 0.764905</td><td>-0.02270383</td><td>-0.07364394</td><td>-0.1506075</td><td>-0.08734022</td><td>-0.1188063</td><td>No</td><td>No</td></tr>\n",
       "\t<tr><th scope=row>2</th><td> 0.99221162</td><td>-0.2725565</td><td>-0.8594262</td><td>-1.21685949</td><td> 0.7793384</td><td> 0.3025256</td><td>-0.3653787</td><td>-0.06870474</td><td> 0.4641188</td><td>-0.09606902</td><td>...</td><td>-0.08104764</td><td>-0.05991487</td><td> 0.764905</td><td>-0.02270383</td><td>-0.07364394</td><td>-0.1506075</td><td>-0.08734022</td><td>-0.1188063</td><td>No</td><td>No</td></tr>\n",
       "\t<tr><th scope=row>3</th><td> 0.99221162</td><td>-0.2725565</td><td>-0.8594262</td><td>-1.21685949</td><td> 0.7793384</td><td>-0.6942510</td><td>-0.3653787</td><td> 0.91409379</td><td> 0.4641188</td><td>-1.66717535</td><td>...</td><td>-0.08104764</td><td>-0.05991487</td><td> 0.764905</td><td>-0.02270383</td><td>-0.07364394</td><td>-0.1506075</td><td>-0.08734022</td><td>-0.1188063</td><td>No</td><td>No</td></tr>\n",
       "\t<tr><th scope=row>4</th><td>-1.18733547</td><td>-0.2725565</td><td> 0.4066617</td><td> 0.01075374</td><td>-0.9708962</td><td> 1.2993023</td><td>-0.9481828</td><td> 0.91409379</td><td> 0.4641188</td><td>-0.61977113</td><td>...</td><td>-0.08104764</td><td>-0.05991487</td><td> 0.764905</td><td>-0.02270383</td><td>-0.07364394</td><td>-0.1506075</td><td>-0.08734022</td><td>-0.1188063</td><td>No</td><td>No</td></tr>\n",
       "\t<tr><th scope=row>5</th><td> 1.22573452</td><td>-0.2725565</td><td> 1.6727497</td><td>-1.21685949</td><td> 1.4794323</td><td> 0.3025256</td><td>-0.3653787</td><td>-0.06870474</td><td> 0.4641188</td><td> 0.42763309</td><td>...</td><td>-0.08104764</td><td>-0.05991487</td><td> 0.764905</td><td>-0.02270383</td><td>-0.07364394</td><td>-0.1506075</td><td>-0.08734022</td><td>-0.1188063</td><td>No</td><td>No</td></tr>\n",
       "\t<tr><th scope=row>6</th><td>-0.09756193</td><td>-0.2725565</td><td>-0.8594262</td><td>-2.44447272</td><td>-0.2708024</td><td>-0.6942510</td><td> 0.2174254</td><td>-1.05150327</td><td> 1.0900394</td><td>-3.23828168</td><td>...</td><td>-0.08104764</td><td>-0.05991487</td><td>-1.014271</td><td>-0.02270383</td><td>-0.07364394</td><td>-0.1506075</td><td>-0.08734022</td><td>-0.1188063</td><td>No</td><td>No</td></tr>\n",
       "</tbody>\n",
       "</table>\n"
      ],
      "text/latex": [
       "A data.frame: 6 × 87\n",
       "\\begin{tabular}{r|lllllllllllllllllllll}\n",
       "  & MOSTYPE & MAANTHUI & MGEMOMV & MGEMLEEF & MOSHOOFD & MGODRK & MGODPR & MGODOV & MGODGE & MRELGE & ... & AGEZONG & AWAOREG & ABRAND & AZEILPL & APLEZIER & AFIETS & AINBOED & ABYSTAND & Purchase & Purchase.pred\\\\\n",
       "  & <dbl> & <dbl> & <dbl> & <dbl> & <dbl> & <dbl> & <dbl> & <dbl> & <dbl> & <dbl> & ... & <dbl> & <dbl> & <dbl> & <dbl> & <dbl> & <dbl> & <dbl> & <dbl> & <fct> & <fct>\\\\\n",
       "\\hline\n",
       "\t1 &  0.68084775 & -0.2725565 &  0.4066617 & -1.21685949 &  0.7793384 & -0.6942510 &  0.2174254 & -0.06870474 & -0.1618019 &  0.42763309 & ... & -0.08104764 & -0.05991487 &  0.764905 & -0.02270383 & -0.07364394 & -0.1506075 & -0.08734022 & -0.1188063 & No & No\\\\\n",
       "\t2 &  0.99221162 & -0.2725565 & -0.8594262 & -1.21685949 &  0.7793384 &  0.3025256 & -0.3653787 & -0.06870474 &  0.4641188 & -0.09606902 & ... & -0.08104764 & -0.05991487 &  0.764905 & -0.02270383 & -0.07364394 & -0.1506075 & -0.08734022 & -0.1188063 & No & No\\\\\n",
       "\t3 &  0.99221162 & -0.2725565 & -0.8594262 & -1.21685949 &  0.7793384 & -0.6942510 & -0.3653787 &  0.91409379 &  0.4641188 & -1.66717535 & ... & -0.08104764 & -0.05991487 &  0.764905 & -0.02270383 & -0.07364394 & -0.1506075 & -0.08734022 & -0.1188063 & No & No\\\\\n",
       "\t4 & -1.18733547 & -0.2725565 &  0.4066617 &  0.01075374 & -0.9708962 &  1.2993023 & -0.9481828 &  0.91409379 &  0.4641188 & -0.61977113 & ... & -0.08104764 & -0.05991487 &  0.764905 & -0.02270383 & -0.07364394 & -0.1506075 & -0.08734022 & -0.1188063 & No & No\\\\\n",
       "\t5 &  1.22573452 & -0.2725565 &  1.6727497 & -1.21685949 &  1.4794323 &  0.3025256 & -0.3653787 & -0.06870474 &  0.4641188 &  0.42763309 & ... & -0.08104764 & -0.05991487 &  0.764905 & -0.02270383 & -0.07364394 & -0.1506075 & -0.08734022 & -0.1188063 & No & No\\\\\n",
       "\t6 & -0.09756193 & -0.2725565 & -0.8594262 & -2.44447272 & -0.2708024 & -0.6942510 &  0.2174254 & -1.05150327 &  1.0900394 & -3.23828168 & ... & -0.08104764 & -0.05991487 & -1.014271 & -0.02270383 & -0.07364394 & -0.1506075 & -0.08734022 & -0.1188063 & No & No\\\\\n",
       "\\end{tabular}\n"
      ],
      "text/markdown": [
       "\n",
       "A data.frame: 6 × 87\n",
       "\n",
       "| <!--/--> | MOSTYPE &lt;dbl&gt; | MAANTHUI &lt;dbl&gt; | MGEMOMV &lt;dbl&gt; | MGEMLEEF &lt;dbl&gt; | MOSHOOFD &lt;dbl&gt; | MGODRK &lt;dbl&gt; | MGODPR &lt;dbl&gt; | MGODOV &lt;dbl&gt; | MGODGE &lt;dbl&gt; | MRELGE &lt;dbl&gt; | ... ... | AGEZONG &lt;dbl&gt; | AWAOREG &lt;dbl&gt; | ABRAND &lt;dbl&gt; | AZEILPL &lt;dbl&gt; | APLEZIER &lt;dbl&gt; | AFIETS &lt;dbl&gt; | AINBOED &lt;dbl&gt; | ABYSTAND &lt;dbl&gt; | Purchase &lt;fct&gt; | Purchase.pred &lt;fct&gt; |\n",
       "|---|---|---|---|---|---|---|---|---|---|---|---|---|---|---|---|---|---|---|---|---|---|\n",
       "| 1 |  0.68084775 | -0.2725565 |  0.4066617 | -1.21685949 |  0.7793384 | -0.6942510 |  0.2174254 | -0.06870474 | -0.1618019 |  0.42763309 | ... | -0.08104764 | -0.05991487 |  0.764905 | -0.02270383 | -0.07364394 | -0.1506075 | -0.08734022 | -0.1188063 | No | No |\n",
       "| 2 |  0.99221162 | -0.2725565 | -0.8594262 | -1.21685949 |  0.7793384 |  0.3025256 | -0.3653787 | -0.06870474 |  0.4641188 | -0.09606902 | ... | -0.08104764 | -0.05991487 |  0.764905 | -0.02270383 | -0.07364394 | -0.1506075 | -0.08734022 | -0.1188063 | No | No |\n",
       "| 3 |  0.99221162 | -0.2725565 | -0.8594262 | -1.21685949 |  0.7793384 | -0.6942510 | -0.3653787 |  0.91409379 |  0.4641188 | -1.66717535 | ... | -0.08104764 | -0.05991487 |  0.764905 | -0.02270383 | -0.07364394 | -0.1506075 | -0.08734022 | -0.1188063 | No | No |\n",
       "| 4 | -1.18733547 | -0.2725565 |  0.4066617 |  0.01075374 | -0.9708962 |  1.2993023 | -0.9481828 |  0.91409379 |  0.4641188 | -0.61977113 | ... | -0.08104764 | -0.05991487 |  0.764905 | -0.02270383 | -0.07364394 | -0.1506075 | -0.08734022 | -0.1188063 | No | No |\n",
       "| 5 |  1.22573452 | -0.2725565 |  1.6727497 | -1.21685949 |  1.4794323 |  0.3025256 | -0.3653787 | -0.06870474 |  0.4641188 |  0.42763309 | ... | -0.08104764 | -0.05991487 |  0.764905 | -0.02270383 | -0.07364394 | -0.1506075 | -0.08734022 | -0.1188063 | No | No |\n",
       "| 6 | -0.09756193 | -0.2725565 | -0.8594262 | -2.44447272 | -0.2708024 | -0.6942510 |  0.2174254 | -1.05150327 |  1.0900394 | -3.23828168 | ... | -0.08104764 | -0.05991487 | -1.014271 | -0.02270383 | -0.07364394 | -0.1506075 | -0.08734022 | -0.1188063 | No | No |\n",
       "\n"
      ],
      "text/plain": [
       "  MOSTYPE     MAANTHUI   MGEMOMV    MGEMLEEF    MOSHOOFD   MGODRK    \n",
       "1  0.68084775 -0.2725565  0.4066617 -1.21685949  0.7793384 -0.6942510\n",
       "2  0.99221162 -0.2725565 -0.8594262 -1.21685949  0.7793384  0.3025256\n",
       "3  0.99221162 -0.2725565 -0.8594262 -1.21685949  0.7793384 -0.6942510\n",
       "4 -1.18733547 -0.2725565  0.4066617  0.01075374 -0.9708962  1.2993023\n",
       "5  1.22573452 -0.2725565  1.6727497 -1.21685949  1.4794323  0.3025256\n",
       "6 -0.09756193 -0.2725565 -0.8594262 -2.44447272 -0.2708024 -0.6942510\n",
       "  MGODPR     MGODOV      MGODGE     MRELGE      ... AGEZONG     AWAOREG    \n",
       "1  0.2174254 -0.06870474 -0.1618019  0.42763309 ... -0.08104764 -0.05991487\n",
       "2 -0.3653787 -0.06870474  0.4641188 -0.09606902 ... -0.08104764 -0.05991487\n",
       "3 -0.3653787  0.91409379  0.4641188 -1.66717535 ... -0.08104764 -0.05991487\n",
       "4 -0.9481828  0.91409379  0.4641188 -0.61977113 ... -0.08104764 -0.05991487\n",
       "5 -0.3653787 -0.06870474  0.4641188  0.42763309 ... -0.08104764 -0.05991487\n",
       "6  0.2174254 -1.05150327  1.0900394 -3.23828168 ... -0.08104764 -0.05991487\n",
       "  ABRAND    AZEILPL     APLEZIER    AFIETS     AINBOED     ABYSTAND   Purchase\n",
       "1  0.764905 -0.02270383 -0.07364394 -0.1506075 -0.08734022 -0.1188063 No      \n",
       "2  0.764905 -0.02270383 -0.07364394 -0.1506075 -0.08734022 -0.1188063 No      \n",
       "3  0.764905 -0.02270383 -0.07364394 -0.1506075 -0.08734022 -0.1188063 No      \n",
       "4  0.764905 -0.02270383 -0.07364394 -0.1506075 -0.08734022 -0.1188063 No      \n",
       "5  0.764905 -0.02270383 -0.07364394 -0.1506075 -0.08734022 -0.1188063 No      \n",
       "6 -1.014271 -0.02270383 -0.07364394 -0.1506075 -0.08734022 -0.1188063 No      \n",
       "  Purchase.pred\n",
       "1 No           \n",
       "2 No           \n",
       "3 No           \n",
       "4 No           \n",
       "5 No           \n",
       "6 No           "
      ]
     },
     "metadata": {},
     "output_type": "display_data"
    }
   ],
   "source": [
    "x_test_pred <- data.frame(x_test,'Purchase'= y_test, 'Purchase.pred'= y_pred)\n",
    "head(x_test_pred)"
   ]
  },
  {
   "cell_type": "code",
   "execution_count": 151,
   "metadata": {},
   "outputs": [
    {
     "data": {
      "text/html": [
       "0.946753692889042"
      ],
      "text/latex": [
       "0.946753692889042"
      ],
      "text/markdown": [
       "0.946753692889042"
      ],
      "text/plain": [
       "[1] 0.9467537"
      ]
     },
     "metadata": {},
     "output_type": "display_data"
    }
   ],
   "source": [
    "# precision of the model\n",
    "precision <- mean(x_test_pred$Purchase == x_test_pred$Purchase.pred)\n",
    "precision "
   ]
  },
  {
   "cell_type": "markdown",
   "metadata": {},
   "source": [
    "> Selecting the best k value"
   ]
  },
  {
   "cell_type": "code",
   "execution_count": 152,
   "metadata": {},
   "outputs": [],
   "source": [
    "precision <- numeric()\n",
    "k = 2:20\n",
    "for(i in 1:length(k)){\n",
    "    y_pred_i <- knn(train=x_train, test= x_test, cl=y_train, k=i)\n",
    "    precision[i] <- mean(y_test == y_pred_i)\n",
    "    #cat(paste0('k = ', i, ', precision = ', precision[i], '\\n'))\n",
    "}"
   ]
  },
  {
   "cell_type": "code",
   "execution_count": 153,
   "metadata": {},
   "outputs": [
    {
     "data": {
      "image/png": "[encoded data removed]",
      "text/plain": [
       "plot without title"
      ]
     },
     "metadata": {
      "image/png": {
       "height": 360,
       "width": 960
      }
     },
     "output_type": "display_data"
    }
   ],
   "source": [
    "# make dataframe\n",
    "df_k  <- data.frame('k'= k, 'precision'= precision)\n",
    "\n",
    "# plot\n",
    "p1 <- ggplot(df_k, aes(x=k, y=precision)) +\n",
    "geom_line(lty='dotted', color='blue') +\n",
    "geom_point(col='black') +\n",
    "labs(x='k', y='Precision', title='Selectiong best k')\n",
    "p1\n"
   ]
  },
  {
   "cell_type": "markdown",
   "metadata": {},
   "source": [
    "> Conclusions:\n",
    "\n",
    "When we observe the above plot, we can see clearly that the best choise of $k$ is when the line of the precision is flat, so this happend whe $k=4$"
   ]
  },
  {
   "cell_type": "markdown",
   "metadata": {},
   "source": [
    "## k fold cross validation"
   ]
  },
  {
   "cell_type": "code",
   "execution_count": 4,
   "metadata": {},
   "outputs": [],
   "source": [
    "#install.packages(\"caret\")\n",
    "library(\"caret\")"
   ]
  },
  {
   "cell_type": "code",
   "execution_count": 5,
   "metadata": {},
   "outputs": [
    {
     "data": {
      "text/html": [
       "<table class=\"dataframe\">\n",
       "<caption>A data.frame: 6 × 86</caption>\n",
       "<thead>\n",
       "\t<tr><th></th><th scope=col>MOSTYPE</th><th scope=col>MAANTHUI</th><th scope=col>MGEMOMV</th><th scope=col>MGEMLEEF</th><th scope=col>MOSHOOFD</th><th scope=col>MGODRK</th><th scope=col>MGODPR</th><th scope=col>MGODOV</th><th scope=col>MGODGE</th><th scope=col>MRELGE</th><th scope=col>...</th><th scope=col>APERSONG</th><th scope=col>AGEZONG</th><th scope=col>AWAOREG</th><th scope=col>ABRAND</th><th scope=col>AZEILPL</th><th scope=col>APLEZIER</th><th scope=col>AFIETS</th><th scope=col>AINBOED</th><th scope=col>ABYSTAND</th><th scope=col>Purchase</th></tr>\n",
       "\t<tr><th></th><th scope=col>&lt;dbl&gt;</th><th scope=col>&lt;dbl&gt;</th><th scope=col>&lt;dbl&gt;</th><th scope=col>&lt;dbl&gt;</th><th scope=col>&lt;dbl&gt;</th><th scope=col>&lt;dbl&gt;</th><th scope=col>&lt;dbl&gt;</th><th scope=col>&lt;dbl&gt;</th><th scope=col>&lt;dbl&gt;</th><th scope=col>&lt;dbl&gt;</th><th scope=col>...</th><th scope=col>&lt;dbl&gt;</th><th scope=col>&lt;dbl&gt;</th><th scope=col>&lt;dbl&gt;</th><th scope=col>&lt;dbl&gt;</th><th scope=col>&lt;dbl&gt;</th><th scope=col>&lt;dbl&gt;</th><th scope=col>&lt;dbl&gt;</th><th scope=col>&lt;dbl&gt;</th><th scope=col>&lt;dbl&gt;</th><th scope=col>&lt;fct&gt;</th></tr>\n",
       "</thead>\n",
       "<tbody>\n",
       "\t<tr><th scope=row>1</th><td>33</td><td>1</td><td>3</td><td>2</td><td> 8</td><td>0</td><td>5</td><td>1</td><td>3</td><td>7</td><td>...</td><td>0</td><td>0</td><td>0</td><td>1</td><td>0</td><td>0</td><td>0</td><td>0</td><td>0</td><td>No</td></tr>\n",
       "\t<tr><th scope=row>2</th><td>37</td><td>1</td><td>2</td><td>2</td><td> 8</td><td>1</td><td>4</td><td>1</td><td>4</td><td>6</td><td>...</td><td>0</td><td>0</td><td>0</td><td>1</td><td>0</td><td>0</td><td>0</td><td>0</td><td>0</td><td>No</td></tr>\n",
       "\t<tr><th scope=row>3</th><td>37</td><td>1</td><td>2</td><td>2</td><td> 8</td><td>0</td><td>4</td><td>2</td><td>4</td><td>3</td><td>...</td><td>0</td><td>0</td><td>0</td><td>1</td><td>0</td><td>0</td><td>0</td><td>0</td><td>0</td><td>No</td></tr>\n",
       "\t<tr><th scope=row>4</th><td> 9</td><td>1</td><td>3</td><td>3</td><td> 3</td><td>2</td><td>3</td><td>2</td><td>4</td><td>5</td><td>...</td><td>0</td><td>0</td><td>0</td><td>1</td><td>0</td><td>0</td><td>0</td><td>0</td><td>0</td><td>No</td></tr>\n",
       "\t<tr><th scope=row>5</th><td>40</td><td>1</td><td>4</td><td>2</td><td>10</td><td>1</td><td>4</td><td>1</td><td>4</td><td>7</td><td>...</td><td>0</td><td>0</td><td>0</td><td>1</td><td>0</td><td>0</td><td>0</td><td>0</td><td>0</td><td>No</td></tr>\n",
       "\t<tr><th scope=row>6</th><td>23</td><td>1</td><td>2</td><td>1</td><td> 5</td><td>0</td><td>5</td><td>0</td><td>5</td><td>0</td><td>...</td><td>0</td><td>0</td><td>0</td><td>0</td><td>0</td><td>0</td><td>0</td><td>0</td><td>0</td><td>No</td></tr>\n",
       "</tbody>\n",
       "</table>\n"
      ],
      "text/latex": [
       "A data.frame: 6 × 86\n",
       "\\begin{tabular}{r|lllllllllllllllllllll}\n",
       "  & MOSTYPE & MAANTHUI & MGEMOMV & MGEMLEEF & MOSHOOFD & MGODRK & MGODPR & MGODOV & MGODGE & MRELGE & ... & APERSONG & AGEZONG & AWAOREG & ABRAND & AZEILPL & APLEZIER & AFIETS & AINBOED & ABYSTAND & Purchase\\\\\n",
       "  & <dbl> & <dbl> & <dbl> & <dbl> & <dbl> & <dbl> & <dbl> & <dbl> & <dbl> & <dbl> & ... & <dbl> & <dbl> & <dbl> & <dbl> & <dbl> & <dbl> & <dbl> & <dbl> & <dbl> & <fct>\\\\\n",
       "\\hline\n",
       "\t1 & 33 & 1 & 3 & 2 &  8 & 0 & 5 & 1 & 3 & 7 & ... & 0 & 0 & 0 & 1 & 0 & 0 & 0 & 0 & 0 & No\\\\\n",
       "\t2 & 37 & 1 & 2 & 2 &  8 & 1 & 4 & 1 & 4 & 6 & ... & 0 & 0 & 0 & 1 & 0 & 0 & 0 & 0 & 0 & No\\\\\n",
       "\t3 & 37 & 1 & 2 & 2 &  8 & 0 & 4 & 2 & 4 & 3 & ... & 0 & 0 & 0 & 1 & 0 & 0 & 0 & 0 & 0 & No\\\\\n",
       "\t4 &  9 & 1 & 3 & 3 &  3 & 2 & 3 & 2 & 4 & 5 & ... & 0 & 0 & 0 & 1 & 0 & 0 & 0 & 0 & 0 & No\\\\\n",
       "\t5 & 40 & 1 & 4 & 2 & 10 & 1 & 4 & 1 & 4 & 7 & ... & 0 & 0 & 0 & 1 & 0 & 0 & 0 & 0 & 0 & No\\\\\n",
       "\t6 & 23 & 1 & 2 & 1 &  5 & 0 & 5 & 0 & 5 & 0 & ... & 0 & 0 & 0 & 0 & 0 & 0 & 0 & 0 & 0 & No\\\\\n",
       "\\end{tabular}\n"
      ],
      "text/markdown": [
       "\n",
       "A data.frame: 6 × 86\n",
       "\n",
       "| <!--/--> | MOSTYPE &lt;dbl&gt; | MAANTHUI &lt;dbl&gt; | MGEMOMV &lt;dbl&gt; | MGEMLEEF &lt;dbl&gt; | MOSHOOFD &lt;dbl&gt; | MGODRK &lt;dbl&gt; | MGODPR &lt;dbl&gt; | MGODOV &lt;dbl&gt; | MGODGE &lt;dbl&gt; | MRELGE &lt;dbl&gt; | ... ... | APERSONG &lt;dbl&gt; | AGEZONG &lt;dbl&gt; | AWAOREG &lt;dbl&gt; | ABRAND &lt;dbl&gt; | AZEILPL &lt;dbl&gt; | APLEZIER &lt;dbl&gt; | AFIETS &lt;dbl&gt; | AINBOED &lt;dbl&gt; | ABYSTAND &lt;dbl&gt; | Purchase &lt;fct&gt; |\n",
       "|---|---|---|---|---|---|---|---|---|---|---|---|---|---|---|---|---|---|---|---|---|---|\n",
       "| 1 | 33 | 1 | 3 | 2 |  8 | 0 | 5 | 1 | 3 | 7 | ... | 0 | 0 | 0 | 1 | 0 | 0 | 0 | 0 | 0 | No |\n",
       "| 2 | 37 | 1 | 2 | 2 |  8 | 1 | 4 | 1 | 4 | 6 | ... | 0 | 0 | 0 | 1 | 0 | 0 | 0 | 0 | 0 | No |\n",
       "| 3 | 37 | 1 | 2 | 2 |  8 | 0 | 4 | 2 | 4 | 3 | ... | 0 | 0 | 0 | 1 | 0 | 0 | 0 | 0 | 0 | No |\n",
       "| 4 |  9 | 1 | 3 | 3 |  3 | 2 | 3 | 2 | 4 | 5 | ... | 0 | 0 | 0 | 1 | 0 | 0 | 0 | 0 | 0 | No |\n",
       "| 5 | 40 | 1 | 4 | 2 | 10 | 1 | 4 | 1 | 4 | 7 | ... | 0 | 0 | 0 | 1 | 0 | 0 | 0 | 0 | 0 | No |\n",
       "| 6 | 23 | 1 | 2 | 1 |  5 | 0 | 5 | 0 | 5 | 0 | ... | 0 | 0 | 0 | 0 | 0 | 0 | 0 | 0 | 0 | No |\n",
       "\n"
      ],
      "text/plain": [
       "  MOSTYPE MAANTHUI MGEMOMV MGEMLEEF MOSHOOFD MGODRK MGODPR MGODOV MGODGE MRELGE\n",
       "1 33      1        3       2         8       0      5      1      3      7     \n",
       "2 37      1        2       2         8       1      4      1      4      6     \n",
       "3 37      1        2       2         8       0      4      2      4      3     \n",
       "4  9      1        3       3         3       2      3      2      4      5     \n",
       "5 40      1        4       2        10       1      4      1      4      7     \n",
       "6 23      1        2       1         5       0      5      0      5      0     \n",
       "  ... APERSONG AGEZONG AWAOREG ABRAND AZEILPL APLEZIER AFIETS AINBOED ABYSTAND\n",
       "1 ... 0        0       0       1      0       0        0      0       0       \n",
       "2 ... 0        0       0       1      0       0        0      0       0       \n",
       "3 ... 0        0       0       1      0       0        0      0       0       \n",
       "4 ... 0        0       0       1      0       0        0      0       0       \n",
       "5 ... 0        0       0       1      0       0        0      0       0       \n",
       "6 ... 0        0       0       0      0       0        0      0       0       \n",
       "  Purchase\n",
       "1 No      \n",
       "2 No      \n",
       "3 No      \n",
       "4 No      \n",
       "5 No      \n",
       "6 No      "
      ]
     },
     "metadata": {},
     "output_type": "display_data"
    }
   ],
   "source": [
    "\n",
    "df <- Caravan\n",
    "head(Caravan)"
   ]
  },
  {
   "cell_type": "code",
   "execution_count": 6,
   "metadata": {},
   "outputs": [],
   "source": [
    "x <- df %>% select(-Purchase)\n",
    "y <- df %>% select(Purchase)"
   ]
  },
  {
   "cell_type": "code",
   "execution_count": 7,
   "metadata": {},
   "outputs": [],
   "source": [
    "# standarization\n",
    "x.standarized  <- scale(x)"
   ]
  },
  {
   "cell_type": "code",
   "execution_count": 8,
   "metadata": {},
   "outputs": [],
   "source": [
    "set.seed(123)\n",
    "split <- sample.split(y, SplitRatio=0.8)"
   ]
  },
  {
   "cell_type": "code",
   "execution_count": 9,
   "metadata": {},
   "outputs": [],
   "source": [
    "# train\n",
    "x_train <- subset(x.standarized, split=TRUE)\n",
    "x_test <- subset(x.standarized, split=FALSE)\n",
    "# target\n",
    "y_train <- subset(y, split=TRUE) %>% pull()\n",
    "y_test <- subset(y, split=FALSE) %>% pull()"
   ]
  },
  {
   "cell_type": "code",
   "execution_count": 10,
   "metadata": {},
   "outputs": [
    {
     "data": {
      "text/html": [
       "<style>\n",
       ".list-inline {list-style: none; margin:0; padding: 0}\n",
       ".list-inline>li {display: inline-block}\n",
       ".list-inline>li:not(:last-child)::after {content: \"\\00b7\"; padding: 0 .5ex}\n",
       "</style>\n",
       "<ol class=list-inline><li>'Fold01'</li><li>'Fold02'</li><li>'Fold03'</li><li>'Fold04'</li><li>'Fold05'</li><li>'Fold06'</li><li>'Fold07'</li><li>'Fold08'</li><li>'Fold09'</li><li>'Fold10'</li></ol>\n"
      ],
      "text/latex": [
       "\\begin{enumerate*}\n",
       "\\item 'Fold01'\n",
       "\\item 'Fold02'\n",
       "\\item 'Fold03'\n",
       "\\item 'Fold04'\n",
       "\\item 'Fold05'\n",
       "\\item 'Fold06'\n",
       "\\item 'Fold07'\n",
       "\\item 'Fold08'\n",
       "\\item 'Fold09'\n",
       "\\item 'Fold10'\n",
       "\\end{enumerate*}\n"
      ],
      "text/markdown": [
       "1. 'Fold01'\n",
       "2. 'Fold02'\n",
       "3. 'Fold03'\n",
       "4. 'Fold04'\n",
       "5. 'Fold05'\n",
       "6. 'Fold06'\n",
       "7. 'Fold07'\n",
       "8. 'Fold08'\n",
       "9. 'Fold09'\n",
       "10. 'Fold10'\n",
       "\n",
       "\n"
      ],
      "text/plain": [
       " [1] \"Fold01\" \"Fold02\" \"Fold03\" \"Fold04\" \"Fold05\" \"Fold06\" \"Fold07\" \"Fold08\"\n",
       " [9] \"Fold09\" \"Fold10\""
      ]
     },
     "metadata": {},
     "output_type": "display_data"
    }
   ],
   "source": [
    "folds <- createFolds(y_train, k = 10)\n",
    "names(folds)"
   ]
  },
  {
   "cell_type": "code",
   "execution_count": 14,
   "metadata": {},
   "outputs": [],
   "source": [
    "# loop\n",
    "precision <- numeric()\n",
    "for(i in 1:length(folds)){\n",
    "    fold_i <- folds[[i]]\n",
    "    # train\n",
    "    x_train_fold <- x_train[-fold_i,]\n",
    "    y_train_fold <- y_train[-fold_i]\n",
    "    # test\n",
    "    x_validation_fold <- x_train[fold_i,]\n",
    "    y_validation_fold <- y_train[fold_i]\n",
    "    #\n",
    "    y_pred_fold <- knn(train=x_train_fold, test= x_validation_fold, cl=y_train_fold, k=10)\n",
    "    #cm <- table(y_test_fold, y_pred_fold)\n",
    "    #precision[i] <- (cm[1,1] + cm[2,2]) / (cm[1,1] + cm[2,2] +cm[1,2] + cm[2,1])\n",
    "    precision[i] <- mean(y_validation_fold == y_pred_fold)\n",
    "}"
   ]
  },
  {
   "cell_type": "code",
   "execution_count": 15,
   "metadata": {},
   "outputs": [
    {
     "data": {
      "text/html": [
       "0.93955"
      ],
      "text/latex": [
       "0.93955"
      ],
      "text/markdown": [
       "0.93955"
      ],
      "text/plain": [
       "[1] 0.93955"
      ]
     },
     "metadata": {},
     "output_type": "display_data"
    }
   ],
   "source": [
    "# \n",
    "precision2 <- mean(round(precision,4))\n",
    "precision2"
   ]
  },
  {
   "cell_type": "markdown",
   "metadata": {},
   "source": [
    "# Easy way"
   ]
  },
  {
   "cell_type": "code",
   "execution_count": 140,
   "metadata": {},
   "outputs": [
    {
     "data": {
      "text/html": [
       "<table class=\"dataframe\">\n",
       "<caption>A data.frame: 6 × 86</caption>\n",
       "<thead>\n",
       "\t<tr><th></th><th scope=col>MOSTYPE</th><th scope=col>MAANTHUI</th><th scope=col>MGEMOMV</th><th scope=col>MGEMLEEF</th><th scope=col>MOSHOOFD</th><th scope=col>MGODRK</th><th scope=col>MGODPR</th><th scope=col>MGODOV</th><th scope=col>MGODGE</th><th scope=col>MRELGE</th><th scope=col>...</th><th scope=col>APERSONG</th><th scope=col>AGEZONG</th><th scope=col>AWAOREG</th><th scope=col>ABRAND</th><th scope=col>AZEILPL</th><th scope=col>APLEZIER</th><th scope=col>AFIETS</th><th scope=col>AINBOED</th><th scope=col>ABYSTAND</th><th scope=col>Purchase</th></tr>\n",
       "\t<tr><th></th><th scope=col>&lt;dbl&gt;</th><th scope=col>&lt;dbl&gt;</th><th scope=col>&lt;dbl&gt;</th><th scope=col>&lt;dbl&gt;</th><th scope=col>&lt;dbl&gt;</th><th scope=col>&lt;dbl&gt;</th><th scope=col>&lt;dbl&gt;</th><th scope=col>&lt;dbl&gt;</th><th scope=col>&lt;dbl&gt;</th><th scope=col>&lt;dbl&gt;</th><th scope=col>...</th><th scope=col>&lt;dbl&gt;</th><th scope=col>&lt;dbl&gt;</th><th scope=col>&lt;dbl&gt;</th><th scope=col>&lt;dbl&gt;</th><th scope=col>&lt;dbl&gt;</th><th scope=col>&lt;dbl&gt;</th><th scope=col>&lt;dbl&gt;</th><th scope=col>&lt;dbl&gt;</th><th scope=col>&lt;dbl&gt;</th><th scope=col>&lt;fct&gt;</th></tr>\n",
       "</thead>\n",
       "<tbody>\n",
       "\t<tr><th scope=row>1</th><td>33</td><td>1</td><td>3</td><td>2</td><td> 8</td><td>0</td><td>5</td><td>1</td><td>3</td><td>7</td><td>...</td><td>0</td><td>0</td><td>0</td><td>1</td><td>0</td><td>0</td><td>0</td><td>0</td><td>0</td><td>No</td></tr>\n",
       "\t<tr><th scope=row>2</th><td>37</td><td>1</td><td>2</td><td>2</td><td> 8</td><td>1</td><td>4</td><td>1</td><td>4</td><td>6</td><td>...</td><td>0</td><td>0</td><td>0</td><td>1</td><td>0</td><td>0</td><td>0</td><td>0</td><td>0</td><td>No</td></tr>\n",
       "\t<tr><th scope=row>3</th><td>37</td><td>1</td><td>2</td><td>2</td><td> 8</td><td>0</td><td>4</td><td>2</td><td>4</td><td>3</td><td>...</td><td>0</td><td>0</td><td>0</td><td>1</td><td>0</td><td>0</td><td>0</td><td>0</td><td>0</td><td>No</td></tr>\n",
       "\t<tr><th scope=row>4</th><td> 9</td><td>1</td><td>3</td><td>3</td><td> 3</td><td>2</td><td>3</td><td>2</td><td>4</td><td>5</td><td>...</td><td>0</td><td>0</td><td>0</td><td>1</td><td>0</td><td>0</td><td>0</td><td>0</td><td>0</td><td>No</td></tr>\n",
       "\t<tr><th scope=row>5</th><td>40</td><td>1</td><td>4</td><td>2</td><td>10</td><td>1</td><td>4</td><td>1</td><td>4</td><td>7</td><td>...</td><td>0</td><td>0</td><td>0</td><td>1</td><td>0</td><td>0</td><td>0</td><td>0</td><td>0</td><td>No</td></tr>\n",
       "\t<tr><th scope=row>6</th><td>23</td><td>1</td><td>2</td><td>1</td><td> 5</td><td>0</td><td>5</td><td>0</td><td>5</td><td>0</td><td>...</td><td>0</td><td>0</td><td>0</td><td>0</td><td>0</td><td>0</td><td>0</td><td>0</td><td>0</td><td>No</td></tr>\n",
       "</tbody>\n",
       "</table>\n"
      ],
      "text/latex": [
       "A data.frame: 6 × 86\n",
       "\\begin{tabular}{r|lllllllllllllllllllll}\n",
       "  & MOSTYPE & MAANTHUI & MGEMOMV & MGEMLEEF & MOSHOOFD & MGODRK & MGODPR & MGODOV & MGODGE & MRELGE & ... & APERSONG & AGEZONG & AWAOREG & ABRAND & AZEILPL & APLEZIER & AFIETS & AINBOED & ABYSTAND & Purchase\\\\\n",
       "  & <dbl> & <dbl> & <dbl> & <dbl> & <dbl> & <dbl> & <dbl> & <dbl> & <dbl> & <dbl> & ... & <dbl> & <dbl> & <dbl> & <dbl> & <dbl> & <dbl> & <dbl> & <dbl> & <dbl> & <fct>\\\\\n",
       "\\hline\n",
       "\t1 & 33 & 1 & 3 & 2 &  8 & 0 & 5 & 1 & 3 & 7 & ... & 0 & 0 & 0 & 1 & 0 & 0 & 0 & 0 & 0 & No\\\\\n",
       "\t2 & 37 & 1 & 2 & 2 &  8 & 1 & 4 & 1 & 4 & 6 & ... & 0 & 0 & 0 & 1 & 0 & 0 & 0 & 0 & 0 & No\\\\\n",
       "\t3 & 37 & 1 & 2 & 2 &  8 & 0 & 4 & 2 & 4 & 3 & ... & 0 & 0 & 0 & 1 & 0 & 0 & 0 & 0 & 0 & No\\\\\n",
       "\t4 &  9 & 1 & 3 & 3 &  3 & 2 & 3 & 2 & 4 & 5 & ... & 0 & 0 & 0 & 1 & 0 & 0 & 0 & 0 & 0 & No\\\\\n",
       "\t5 & 40 & 1 & 4 & 2 & 10 & 1 & 4 & 1 & 4 & 7 & ... & 0 & 0 & 0 & 1 & 0 & 0 & 0 & 0 & 0 & No\\\\\n",
       "\t6 & 23 & 1 & 2 & 1 &  5 & 0 & 5 & 0 & 5 & 0 & ... & 0 & 0 & 0 & 0 & 0 & 0 & 0 & 0 & 0 & No\\\\\n",
       "\\end{tabular}\n"
      ],
      "text/markdown": [
       "\n",
       "A data.frame: 6 × 86\n",
       "\n",
       "| <!--/--> | MOSTYPE &lt;dbl&gt; | MAANTHUI &lt;dbl&gt; | MGEMOMV &lt;dbl&gt; | MGEMLEEF &lt;dbl&gt; | MOSHOOFD &lt;dbl&gt; | MGODRK &lt;dbl&gt; | MGODPR &lt;dbl&gt; | MGODOV &lt;dbl&gt; | MGODGE &lt;dbl&gt; | MRELGE &lt;dbl&gt; | ... ... | APERSONG &lt;dbl&gt; | AGEZONG &lt;dbl&gt; | AWAOREG &lt;dbl&gt; | ABRAND &lt;dbl&gt; | AZEILPL &lt;dbl&gt; | APLEZIER &lt;dbl&gt; | AFIETS &lt;dbl&gt; | AINBOED &lt;dbl&gt; | ABYSTAND &lt;dbl&gt; | Purchase &lt;fct&gt; |\n",
       "|---|---|---|---|---|---|---|---|---|---|---|---|---|---|---|---|---|---|---|---|---|---|\n",
       "| 1 | 33 | 1 | 3 | 2 |  8 | 0 | 5 | 1 | 3 | 7 | ... | 0 | 0 | 0 | 1 | 0 | 0 | 0 | 0 | 0 | No |\n",
       "| 2 | 37 | 1 | 2 | 2 |  8 | 1 | 4 | 1 | 4 | 6 | ... | 0 | 0 | 0 | 1 | 0 | 0 | 0 | 0 | 0 | No |\n",
       "| 3 | 37 | 1 | 2 | 2 |  8 | 0 | 4 | 2 | 4 | 3 | ... | 0 | 0 | 0 | 1 | 0 | 0 | 0 | 0 | 0 | No |\n",
       "| 4 |  9 | 1 | 3 | 3 |  3 | 2 | 3 | 2 | 4 | 5 | ... | 0 | 0 | 0 | 1 | 0 | 0 | 0 | 0 | 0 | No |\n",
       "| 5 | 40 | 1 | 4 | 2 | 10 | 1 | 4 | 1 | 4 | 7 | ... | 0 | 0 | 0 | 1 | 0 | 0 | 0 | 0 | 0 | No |\n",
       "| 6 | 23 | 1 | 2 | 1 |  5 | 0 | 5 | 0 | 5 | 0 | ... | 0 | 0 | 0 | 0 | 0 | 0 | 0 | 0 | 0 | No |\n",
       "\n"
      ],
      "text/plain": [
       "  MOSTYPE MAANTHUI MGEMOMV MGEMLEEF MOSHOOFD MGODRK MGODPR MGODOV MGODGE MRELGE\n",
       "1 33      1        3       2         8       0      5      1      3      7     \n",
       "2 37      1        2       2         8       1      4      1      4      6     \n",
       "3 37      1        2       2         8       0      4      2      4      3     \n",
       "4  9      1        3       3         3       2      3      2      4      5     \n",
       "5 40      1        4       2        10       1      4      1      4      7     \n",
       "6 23      1        2       1         5       0      5      0      5      0     \n",
       "  ... APERSONG AGEZONG AWAOREG ABRAND AZEILPL APLEZIER AFIETS AINBOED ABYSTAND\n",
       "1 ... 0        0       0       1      0       0        0      0       0       \n",
       "2 ... 0        0       0       1      0       0        0      0       0       \n",
       "3 ... 0        0       0       1      0       0        0      0       0       \n",
       "4 ... 0        0       0       1      0       0        0      0       0       \n",
       "5 ... 0        0       0       1      0       0        0      0       0       \n",
       "6 ... 0        0       0       0      0       0        0      0       0       \n",
       "  Purchase\n",
       "1 No      \n",
       "2 No      \n",
       "3 No      \n",
       "4 No      \n",
       "5 No      \n",
       "6 No      "
      ]
     },
     "metadata": {},
     "output_type": "display_data"
    }
   ],
   "source": [
    "df <- Caravan\n",
    "head(Caravan)"
   ]
  },
  {
   "cell_type": "code",
   "execution_count": 166,
   "metadata": {},
   "outputs": [],
   "source": [
    "set.seed(12345)\n",
    "split <- sample.split(df$Purchase, SplitRatio=0.7)"
   ]
  },
  {
   "cell_type": "code",
   "execution_count": 172,
   "metadata": {},
   "outputs": [],
   "source": [
    "# train and test\n",
    "train <- subset(df, split=TRUE)\n",
    "test <- subset(df, split=FALSE)"
   ]
  },
  {
   "cell_type": "code",
   "execution_count": 168,
   "metadata": {},
   "outputs": [
    {
     "data": {
      "text/plain": [
       "k-Nearest Neighbors \n",
       "\n",
       "5822 samples\n",
       "  85 predictor\n",
       "   2 classes: 'No', 'Yes' \n",
       "\n",
       "Pre-processing: centered (85), scaled (85) \n",
       "Resampling: Cross-Validated (10 fold, repeated 3 times) \n",
       "Summary of sample sizes: 5240, 5240, 5239, 5240, 5240, 5240, ... \n",
       "Resampling results across tuning parameters:\n",
       "\n",
       "  k   Accuracy   Kappa       \n",
       "   5  0.9347887   0.032917215\n",
       "   7  0.9382796   0.022994581\n",
       "   9  0.9394251   0.013024030\n",
       "  11  0.9397691   0.008784034\n",
       "  13  0.9398836   0.002613169\n",
       "  15  0.9401698  -0.000111739\n",
       "  17  0.9402271   0.000000000\n",
       "  19  0.9402271   0.000000000\n",
       "  21  0.9402271   0.000000000\n",
       "  23  0.9402271   0.000000000\n",
       "  25  0.9402271   0.000000000\n",
       "  27  0.9402271   0.000000000\n",
       "  29  0.9402271   0.000000000\n",
       "  31  0.9402271   0.000000000\n",
       "  33  0.9402271   0.000000000\n",
       "  35  0.9402271   0.000000000\n",
       "  37  0.9402271   0.000000000\n",
       "  39  0.9402271   0.000000000\n",
       "  41  0.9402271   0.000000000\n",
       "  43  0.9402271   0.000000000\n",
       "\n",
       "Accuracy was used to select the optimal model using the largest value.\n",
       "The final value used for the model was k = 43."
      ]
     },
     "metadata": {},
     "output_type": "display_data"
    }
   ],
   "source": [
    "set.seed(400)\n",
    "ctrl <- trainControl(method=\"repeatedcv\", repeats = 3) #,classProbs=TRUE,summaryFunction = twoClassSummary)\n",
    "knnFit <- train(Purchase ~ ., data = train, method = \"knn\", trControl = ctrl, preProcess = c(\"center\",\"scale\"), tuneLength = 20)\n",
    "\n",
    "# Output of kNN fit\n",
    "knnFit"
   ]
  },
  {
   "cell_type": "code",
   "execution_count": 169,
   "metadata": {},
   "outputs": [
    {
     "data": {
      "image/png": "[encoded data removed]",
      "text/plain": [
       "plot without title"
      ]
     },
     "metadata": {
      "image/png": {
       "height": 360,
       "width": 960
      }
     },
     "output_type": "display_data"
    }
   ],
   "source": [
    "plot(knnFit)"
   ]
  },
  {
   "cell_type": "code",
   "execution_count": 170,
   "metadata": {},
   "outputs": [
    {
     "data": {
      "text/plain": [
       "Confusion Matrix and Statistics\n",
       "\n",
       "          Reference\n",
       "Prediction   No  Yes\n",
       "       No  5474  348\n",
       "       Yes    0    0\n",
       "                                          \n",
       "               Accuracy : 0.9402          \n",
       "                 95% CI : (0.9338, 0.9462)\n",
       "    No Information Rate : 0.9402          \n",
       "    P-Value [Acc > NIR] : 0.5143          \n",
       "                                          \n",
       "                  Kappa : 0               \n",
       "                                          \n",
       " Mcnemar's Test P-Value : <2e-16          \n",
       "                                          \n",
       "            Sensitivity : 1.0000          \n",
       "            Specificity : 0.0000          \n",
       "         Pos Pred Value : 0.9402          \n",
       "         Neg Pred Value :    NaN          \n",
       "             Prevalence : 0.9402          \n",
       "         Detection Rate : 0.9402          \n",
       "   Detection Prevalence : 1.0000          \n",
       "      Balanced Accuracy : 0.5000          \n",
       "                                          \n",
       "       'Positive' Class : No              \n",
       "                                          "
      ]
     },
     "metadata": {},
     "output_type": "display_data"
    }
   ],
   "source": [
    "knnPredict <- predict(knnFit, newdata = test)\n",
    "# Get the confusion matrix to see accuracy value and other parameter values\n",
    "confusionMatrix(knnPredict, test$Purchase)"
   ]
  }
 ],
 "metadata": {
  "kernelspec": {
   "display_name": "R",
   "language": "R",
   "name": "ir"
  },
  "language_info": {
   "codemirror_mode": "r",
   "file_extension": ".r",
   "mimetype": "text/x-r-source",
   "name": "R",
   "pygments_lexer": "r",
   "version": "4.1.0"
  },
  "orig_nbformat": 4
 },
 "nbformat": 4,
 "nbformat_minor": 2
}
