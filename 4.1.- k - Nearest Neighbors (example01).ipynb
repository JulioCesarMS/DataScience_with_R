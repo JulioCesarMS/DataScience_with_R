{
 "cells": [
  {
   "cell_type": "markdown",
   "metadata": {},
   "source": [
    "# k - Nearest Neighbors"
   ]
  },
  {
   "cell_type": "code",
   "execution_count": 20,
   "metadata": {},
   "outputs": [],
   "source": [
    "#install.packages(\"caTools\")\n",
    "library(\"ISLR\")\n",
    "library(\"caTools\")\n",
    "library('rsample')  # data splitting\n",
    "library(\"klaR\") # naive bayes\n",
    "library(\"caret\") \n",
    "library(\"dplyr\")\n",
    "library(\"class\") # knn\n",
    "library(\"ggplot2\")\n",
    "options(repr.plot.width = 16, repr.plot.height = 6)"
   ]
  },
  {
   "cell_type": "code",
   "execution_count": 3,
   "metadata": {},
   "outputs": [
    {
     "name": "stdout",
     "output_type": "stream",
     "text": [
      "'data.frame':\t5822 obs. of  86 variables:\n",
      " $ MOSTYPE : num  33 37 37 9 40 23 39 33 33 11 ...\n",
      " $ MAANTHUI: num  1 1 1 1 1 1 2 1 1 2 ...\n",
      " $ MGEMOMV : num  3 2 2 3 4 2 3 2 2 3 ...\n",
      " $ MGEMLEEF: num  2 2 2 3 2 1 2 3 4 3 ...\n",
      " $ MOSHOOFD: num  8 8 8 3 10 5 9 8 8 3 ...\n",
      " $ MGODRK  : num  0 1 0 2 1 0 2 0 0 3 ...\n",
      " $ MGODPR  : num  5 4 4 3 4 5 2 7 1 5 ...\n",
      " $ MGODOV  : num  1 1 2 2 1 0 0 0 3 0 ...\n",
      " $ MGODGE  : num  3 4 4 4 4 5 5 2 6 2 ...\n",
      " $ MRELGE  : num  7 6 3 5 7 0 7 7 6 7 ...\n",
      " $ MRELSA  : num  0 2 2 2 1 6 2 2 0 0 ...\n",
      " $ MRELOV  : num  2 2 4 2 2 3 0 0 3 2 ...\n",
      " $ MFALLEEN: num  1 0 4 2 2 3 0 0 3 2 ...\n",
      " $ MFGEKIND: num  2 4 4 3 4 5 3 5 3 2 ...\n",
      " $ MFWEKIND: num  6 5 2 4 4 2 6 4 3 6 ...\n",
      " $ MOPLHOOG: num  1 0 0 3 5 0 0 0 0 0 ...\n",
      " $ MOPLMIDD: num  2 5 5 4 4 5 4 3 1 4 ...\n",
      " $ MOPLLAAG: num  7 4 4 2 0 4 5 6 8 5 ...\n",
      " $ MBERHOOG: num  1 0 0 4 0 2 0 2 1 2 ...\n",
      " $ MBERZELF: num  0 0 0 0 5 0 0 0 1 0 ...\n",
      " $ MBERBOER: num  1 0 0 0 4 0 0 0 0 0 ...\n",
      " $ MBERMIDD: num  2 5 7 3 0 4 4 2 1 3 ...\n",
      " $ MBERARBG: num  5 0 0 1 0 2 1 5 8 3 ...\n",
      " $ MBERARBO: num  2 4 2 2 0 2 5 2 1 3 ...\n",
      " $ MSKA    : num  1 0 0 3 9 2 0 2 1 1 ...\n",
      " $ MSKB1   : num  1 2 5 2 0 2 1 1 1 2 ...\n",
      " $ MSKB2   : num  2 3 0 1 0 2 4 2 0 1 ...\n",
      " $ MSKC    : num  6 5 4 4 0 4 5 5 8 4 ...\n",
      " $ MSKD    : num  1 0 0 0 0 2 0 2 1 2 ...\n",
      " $ MHHUUR  : num  1 2 7 5 4 9 6 0 9 0 ...\n",
      " $ MHKOOP  : num  8 7 2 4 5 0 3 9 0 9 ...\n",
      " $ MAUT1   : num  8 7 7 9 6 5 8 4 5 6 ...\n",
      " $ MAUT2   : num  0 1 0 0 2 3 0 4 2 1 ...\n",
      " $ MAUT0   : num  1 2 2 0 1 3 1 2 3 2 ...\n",
      " $ MZFONDS : num  8 6 9 7 5 9 9 6 7 6 ...\n",
      " $ MZPART  : num  1 3 0 2 4 0 0 3 2 3 ...\n",
      " $ MINKM30 : num  0 2 4 1 0 5 4 2 7 2 ...\n",
      " $ MINK3045: num  4 0 5 5 0 2 3 5 2 3 ...\n",
      " $ MINK4575: num  5 5 0 3 9 3 3 3 1 3 ...\n",
      " $ MINK7512: num  0 2 0 0 0 0 0 0 0 1 ...\n",
      " $ MINK123M: num  0 0 0 0 0 0 0 0 0 0 ...\n",
      " $ MINKGEM : num  4 5 3 4 6 3 3 3 2 4 ...\n",
      " $ MKOOPKLA: num  3 4 4 4 3 3 5 3 3 7 ...\n",
      " $ PWAPART : num  0 2 2 0 0 0 0 0 0 2 ...\n",
      " $ PWABEDR : num  0 0 0 0 0 0 0 0 0 0 ...\n",
      " $ PWALAND : num  0 0 0 0 0 0 0 0 0 0 ...\n",
      " $ PPERSAUT: num  6 0 6 6 0 6 6 0 5 0 ...\n",
      " $ PBESAUT : num  0 0 0 0 0 0 0 0 0 0 ...\n",
      " $ PMOTSCO : num  0 0 0 0 0 0 0 0 0 0 ...\n",
      " $ PVRAAUT : num  0 0 0 0 0 0 0 0 0 0 ...\n",
      " $ PAANHANG: num  0 0 0 0 0 0 0 0 0 0 ...\n",
      " $ PTRACTOR: num  0 0 0 0 0 0 0 0 0 0 ...\n",
      " $ PWERKT  : num  0 0 0 0 0 0 0 0 0 0 ...\n",
      " $ PBROM   : num  0 0 0 0 0 0 0 3 0 0 ...\n",
      " $ PLEVEN  : num  0 0 0 0 0 0 0 0 0 0 ...\n",
      " $ PPERSONG: num  0 0 0 0 0 0 0 0 0 0 ...\n",
      " $ PGEZONG : num  0 0 0 0 0 0 0 0 0 0 ...\n",
      " $ PWAOREG : num  0 0 0 0 0 0 0 0 0 0 ...\n",
      " $ PBRAND  : num  5 2 2 2 6 0 0 0 0 3 ...\n",
      " $ PZEILPL : num  0 0 0 0 0 0 0 0 0 0 ...\n",
      " $ PPLEZIER: num  0 0 0 0 0 0 0 0 0 0 ...\n",
      " $ PFIETS  : num  0 0 0 0 0 0 0 0 0 0 ...\n",
      " $ PINBOED : num  0 0 0 0 0 0 0 0 0 0 ...\n",
      " $ PBYSTAND: num  0 0 0 0 0 0 0 0 0 0 ...\n",
      " $ AWAPART : num  0 2 1 0 0 0 0 0 0 1 ...\n",
      " $ AWABEDR : num  0 0 0 0 0 0 0 0 0 0 ...\n",
      " $ AWALAND : num  0 0 0 0 0 0 0 0 0 0 ...\n",
      " $ APERSAUT: num  1 0 1 1 0 1 1 0 1 0 ...\n",
      " $ ABESAUT : num  0 0 0 0 0 0 0 0 0 0 ...\n",
      " $ AMOTSCO : num  0 0 0 0 0 0 0 0 0 0 ...\n",
      " $ AVRAAUT : num  0 0 0 0 0 0 0 0 0 0 ...\n",
      " $ AAANHANG: num  0 0 0 0 0 0 0 0 0 0 ...\n",
      " $ ATRACTOR: num  0 0 0 0 0 0 0 0 0 0 ...\n",
      " $ AWERKT  : num  0 0 0 0 0 0 0 0 0 0 ...\n",
      " $ ABROM   : num  0 0 0 0 0 0 0 1 0 0 ...\n",
      " $ ALEVEN  : num  0 0 0 0 0 0 0 0 0 0 ...\n",
      " $ APERSONG: num  0 0 0 0 0 0 0 0 0 0 ...\n",
      " $ AGEZONG : num  0 0 0 0 0 0 0 0 0 0 ...\n",
      " $ AWAOREG : num  0 0 0 0 0 0 0 0 0 0 ...\n",
      " $ ABRAND  : num  1 1 1 1 1 0 0 0 0 1 ...\n",
      " $ AZEILPL : num  0 0 0 0 0 0 0 0 0 0 ...\n",
      " $ APLEZIER: num  0 0 0 0 0 0 0 0 0 0 ...\n",
      " $ AFIETS  : num  0 0 0 0 0 0 0 0 0 0 ...\n",
      " $ AINBOED : num  0 0 0 0 0 0 0 0 0 0 ...\n",
      " $ ABYSTAND: num  0 0 0 0 0 0 0 0 0 0 ...\n",
      " $ Purchase: Factor w/ 2 levels \"No\",\"Yes\": 1 1 1 1 1 1 1 1 1 1 ...\n"
     ]
    }
   ],
   "source": [
    "str(Caravan)"
   ]
  },
  {
   "cell_type": "code",
   "execution_count": 4,
   "metadata": {},
   "outputs": [
    {
     "data": {
      "text/html": [
       "<style>\n",
       ".dl-inline {width: auto; margin:0; padding: 0}\n",
       ".dl-inline>dt, .dl-inline>dd {float: none; width: auto; display: inline-block}\n",
       ".dl-inline>dt::after {content: \":\\0020\"; padding-right: .5ex}\n",
       ".dl-inline>dt:not(:first-of-type) {padding-left: .5ex}\n",
       "</style><dl class=dl-inline><dt>No</dt><dd>5474</dd><dt>Yes</dt><dd>348</dd></dl>\n"
      ],
      "text/latex": [
       "\\begin{description*}\n",
       "\\item[No] 5474\n",
       "\\item[Yes] 348\n",
       "\\end{description*}\n"
      ],
      "text/markdown": [
       "No\n",
       ":   5474Yes\n",
       ":   348\n",
       "\n"
      ],
      "text/plain": [
       "  No  Yes \n",
       "5474  348 "
      ]
     },
     "metadata": {},
     "output_type": "display_data"
    }
   ],
   "source": [
    "summary(Caravan$Purchase)"
   ]
  },
  {
   "cell_type": "code",
   "execution_count": 5,
   "metadata": {},
   "outputs": [
    {
     "data": {
      "text/html": [
       "FALSE"
      ],
      "text/latex": [
       "FALSE"
      ],
      "text/markdown": [
       "FALSE"
      ],
      "text/plain": [
       "[1] FALSE"
      ]
     },
     "metadata": {},
     "output_type": "display_data"
    }
   ],
   "source": [
    "# check NA values\n",
    "any(is.na(Caravan))"
   ]
  },
  {
   "cell_type": "code",
   "execution_count": 9,
   "metadata": {},
   "outputs": [],
   "source": [
    "set.seed(123)\n",
    "# stratified split 70% for training, and the rest for testing\n",
    "split <- initial_split(Caravan, prop = 0.7, strata = \"Purchase\")\n",
    "train <- training(split)\n",
    "test  <- testing(split)"
   ]
  },
  {
   "cell_type": "code",
   "execution_count": 10,
   "metadata": {},
   "outputs": [
    {
     "data": {
      "text/plain": [
       "\n",
       "  No  Yes \n",
       "3825  250 "
      ]
     },
     "metadata": {},
     "output_type": "display_data"
    }
   ],
   "source": [
    "# distribution of train\n",
    "table(train$Purchase) "
   ]
  },
  {
   "cell_type": "code",
   "execution_count": 11,
   "metadata": {},
   "outputs": [
    {
     "data": {
      "text/plain": [
       "\n",
       "  No  Yes \n",
       "1649   98 "
      ]
     },
     "metadata": {},
     "output_type": "display_data"
    }
   ],
   "source": [
    "# distribution of test set\n",
    "table(test$Purchase)"
   ]
  },
  {
   "cell_type": "code",
   "execution_count": 17,
   "metadata": {},
   "outputs": [],
   "source": [
    "# create stratified training and testing\n",
    "features <- setdiff(names(train), \"Purchase\")\n",
    "# training\n",
    "x_train <- train[, features]\n",
    "y_train <- train$Purchase\n",
    "# testing\n",
    "x_test <- test[,features]\n",
    "y_test <- test$Purchase"
   ]
  },
  {
   "cell_type": "code",
   "execution_count": 21,
   "metadata": {},
   "outputs": [],
   "source": [
    "# set up 10-fold cross validation procedure\n",
    "train_control <- trainControl(method = \"cv\", number = 10)"
   ]
  },
  {
   "cell_type": "code",
   "execution_count": 22,
   "metadata": {},
   "outputs": [
    {
     "name": "stderr",
     "output_type": "stream",
     "text": [
      "Warning message in preProcess.default(thresh = 0.95, k = 5, freqCut = 19, uniqueCut = 10, :\n",
      "\"These variables have zero variances: PZEILPL, AZEILPL\"\n",
      "Warning message in preProcess.default(thresh = 0.95, k = 5, freqCut = 19, uniqueCut = 10, :\n",
      "\"These variables have zero variances: PZEILPL, AZEILPL\"\n",
      "Warning message in preProcess.default(thresh = 0.95, k = 5, freqCut = 19, uniqueCut = 10, :\n",
      "\"These variables have zero variances: PZEILPL, AZEILPL\"\n"
     ]
    }
   ],
   "source": [
    "# train model\n",
    "knn <- train(x = x_train, \n",
    "            y = y_train, \n",
    "            method = \"knn\", \n",
    "            trControl = train_control,\n",
    "            preProc = c(\"scale\"))"
   ]
  },
  {
   "cell_type": "code",
   "execution_count": 23,
   "metadata": {},
   "outputs": [
    {
     "data": {
      "text/plain": [
       "k-Nearest Neighbors \n",
       "\n",
       "4075 samples\n",
       "  85 predictor\n",
       "   2 classes: 'No', 'Yes' \n",
       "\n",
       "Pre-processing: scaled (85) \n",
       "Resampling: Cross-Validated (10 fold) \n",
       "Summary of sample sizes: 3668, 3668, 3667, 3667, 3668, 3668, ... \n",
       "Resampling results across tuning parameters:\n",
       "\n",
       "  k  Accuracy   Kappa     \n",
       "  5  0.9330045  0.03684649\n",
       "  7  0.9366876  0.01604664\n",
       "  9  0.9386508  0.01356210\n",
       "\n",
       "Accuracy was used to select the optimal model using the largest value.\n",
       "The final value used for the model was k = 9."
      ]
     },
     "metadata": {},
     "output_type": "display_data"
    }
   ],
   "source": [
    "knn"
   ]
  },
  {
   "cell_type": "markdown",
   "metadata": {},
   "source": [
    "## Prediction"
   ]
  },
  {
   "cell_type": "code",
   "execution_count": 24,
   "metadata": {},
   "outputs": [
    {
     "data": {
      "text/html": [
       "<table class=\"dataframe\">\n",
       "<caption>A data.frame: 6 × 87</caption>\n",
       "<thead>\n",
       "\t<tr><th></th><th scope=col>MOSTYPE</th><th scope=col>MAANTHUI</th><th scope=col>MGEMOMV</th><th scope=col>MGEMLEEF</th><th scope=col>MOSHOOFD</th><th scope=col>MGODRK</th><th scope=col>MGODPR</th><th scope=col>MGODOV</th><th scope=col>MGODGE</th><th scope=col>MRELGE</th><th scope=col>...</th><th scope=col>AGEZONG</th><th scope=col>AWAOREG</th><th scope=col>ABRAND</th><th scope=col>AZEILPL</th><th scope=col>APLEZIER</th><th scope=col>AFIETS</th><th scope=col>AINBOED</th><th scope=col>ABYSTAND</th><th scope=col>Purchase</th><th scope=col>y_pred</th></tr>\n",
       "\t<tr><th></th><th scope=col>&lt;dbl&gt;</th><th scope=col>&lt;dbl&gt;</th><th scope=col>&lt;dbl&gt;</th><th scope=col>&lt;dbl&gt;</th><th scope=col>&lt;dbl&gt;</th><th scope=col>&lt;dbl&gt;</th><th scope=col>&lt;dbl&gt;</th><th scope=col>&lt;dbl&gt;</th><th scope=col>&lt;dbl&gt;</th><th scope=col>&lt;dbl&gt;</th><th scope=col>...</th><th scope=col>&lt;dbl&gt;</th><th scope=col>&lt;dbl&gt;</th><th scope=col>&lt;dbl&gt;</th><th scope=col>&lt;dbl&gt;</th><th scope=col>&lt;dbl&gt;</th><th scope=col>&lt;dbl&gt;</th><th scope=col>&lt;dbl&gt;</th><th scope=col>&lt;dbl&gt;</th><th scope=col>&lt;fct&gt;</th><th scope=col>&lt;fct&gt;</th></tr>\n",
       "</thead>\n",
       "<tbody>\n",
       "\t<tr><th scope=row>3</th><td>37</td><td>1</td><td>2</td><td>2</td><td>8</td><td>0</td><td>4</td><td>2</td><td>4</td><td>3</td><td>...</td><td>0</td><td>0</td><td>1</td><td>0</td><td>0</td><td>0</td><td>0</td><td>0</td><td>No</td><td>No</td></tr>\n",
       "\t<tr><th scope=row>4</th><td> 9</td><td>1</td><td>3</td><td>3</td><td>3</td><td>2</td><td>3</td><td>2</td><td>4</td><td>5</td><td>...</td><td>0</td><td>0</td><td>1</td><td>0</td><td>0</td><td>0</td><td>0</td><td>0</td><td>No</td><td>No</td></tr>\n",
       "\t<tr><th scope=row>6</th><td>23</td><td>1</td><td>2</td><td>1</td><td>5</td><td>0</td><td>5</td><td>0</td><td>5</td><td>0</td><td>...</td><td>0</td><td>0</td><td>0</td><td>0</td><td>0</td><td>0</td><td>0</td><td>0</td><td>No</td><td>No</td></tr>\n",
       "\t<tr><th scope=row>8</th><td>33</td><td>1</td><td>2</td><td>3</td><td>8</td><td>0</td><td>7</td><td>0</td><td>2</td><td>7</td><td>...</td><td>0</td><td>0</td><td>0</td><td>0</td><td>0</td><td>0</td><td>0</td><td>0</td><td>No</td><td>No</td></tr>\n",
       "\t<tr><th scope=row>9</th><td>33</td><td>1</td><td>2</td><td>4</td><td>8</td><td>0</td><td>1</td><td>3</td><td>6</td><td>6</td><td>...</td><td>0</td><td>0</td><td>0</td><td>0</td><td>0</td><td>0</td><td>0</td><td>0</td><td>No</td><td>No</td></tr>\n",
       "\t<tr><th scope=row>11</th><td>10</td><td>1</td><td>4</td><td>3</td><td>3</td><td>1</td><td>4</td><td>1</td><td>4</td><td>7</td><td>...</td><td>0</td><td>0</td><td>0</td><td>0</td><td>0</td><td>0</td><td>0</td><td>0</td><td>No</td><td>No</td></tr>\n",
       "</tbody>\n",
       "</table>\n"
      ],
      "text/latex": [
       "A data.frame: 6 × 87\n",
       "\\begin{tabular}{r|lllllllllllllllllllll}\n",
       "  & MOSTYPE & MAANTHUI & MGEMOMV & MGEMLEEF & MOSHOOFD & MGODRK & MGODPR & MGODOV & MGODGE & MRELGE & ... & AGEZONG & AWAOREG & ABRAND & AZEILPL & APLEZIER & AFIETS & AINBOED & ABYSTAND & Purchase & y\\_pred\\\\\n",
       "  & <dbl> & <dbl> & <dbl> & <dbl> & <dbl> & <dbl> & <dbl> & <dbl> & <dbl> & <dbl> & ... & <dbl> & <dbl> & <dbl> & <dbl> & <dbl> & <dbl> & <dbl> & <dbl> & <fct> & <fct>\\\\\n",
       "\\hline\n",
       "\t3 & 37 & 1 & 2 & 2 & 8 & 0 & 4 & 2 & 4 & 3 & ... & 0 & 0 & 1 & 0 & 0 & 0 & 0 & 0 & No & No\\\\\n",
       "\t4 &  9 & 1 & 3 & 3 & 3 & 2 & 3 & 2 & 4 & 5 & ... & 0 & 0 & 1 & 0 & 0 & 0 & 0 & 0 & No & No\\\\\n",
       "\t6 & 23 & 1 & 2 & 1 & 5 & 0 & 5 & 0 & 5 & 0 & ... & 0 & 0 & 0 & 0 & 0 & 0 & 0 & 0 & No & No\\\\\n",
       "\t8 & 33 & 1 & 2 & 3 & 8 & 0 & 7 & 0 & 2 & 7 & ... & 0 & 0 & 0 & 0 & 0 & 0 & 0 & 0 & No & No\\\\\n",
       "\t9 & 33 & 1 & 2 & 4 & 8 & 0 & 1 & 3 & 6 & 6 & ... & 0 & 0 & 0 & 0 & 0 & 0 & 0 & 0 & No & No\\\\\n",
       "\t11 & 10 & 1 & 4 & 3 & 3 & 1 & 4 & 1 & 4 & 7 & ... & 0 & 0 & 0 & 0 & 0 & 0 & 0 & 0 & No & No\\\\\n",
       "\\end{tabular}\n"
      ],
      "text/markdown": [
       "\n",
       "A data.frame: 6 × 87\n",
       "\n",
       "| <!--/--> | MOSTYPE &lt;dbl&gt; | MAANTHUI &lt;dbl&gt; | MGEMOMV &lt;dbl&gt; | MGEMLEEF &lt;dbl&gt; | MOSHOOFD &lt;dbl&gt; | MGODRK &lt;dbl&gt; | MGODPR &lt;dbl&gt; | MGODOV &lt;dbl&gt; | MGODGE &lt;dbl&gt; | MRELGE &lt;dbl&gt; | ... ... | AGEZONG &lt;dbl&gt; | AWAOREG &lt;dbl&gt; | ABRAND &lt;dbl&gt; | AZEILPL &lt;dbl&gt; | APLEZIER &lt;dbl&gt; | AFIETS &lt;dbl&gt; | AINBOED &lt;dbl&gt; | ABYSTAND &lt;dbl&gt; | Purchase &lt;fct&gt; | y_pred &lt;fct&gt; |\n",
       "|---|---|---|---|---|---|---|---|---|---|---|---|---|---|---|---|---|---|---|---|---|---|\n",
       "| 3 | 37 | 1 | 2 | 2 | 8 | 0 | 4 | 2 | 4 | 3 | ... | 0 | 0 | 1 | 0 | 0 | 0 | 0 | 0 | No | No |\n",
       "| 4 |  9 | 1 | 3 | 3 | 3 | 2 | 3 | 2 | 4 | 5 | ... | 0 | 0 | 1 | 0 | 0 | 0 | 0 | 0 | No | No |\n",
       "| 6 | 23 | 1 | 2 | 1 | 5 | 0 | 5 | 0 | 5 | 0 | ... | 0 | 0 | 0 | 0 | 0 | 0 | 0 | 0 | No | No |\n",
       "| 8 | 33 | 1 | 2 | 3 | 8 | 0 | 7 | 0 | 2 | 7 | ... | 0 | 0 | 0 | 0 | 0 | 0 | 0 | 0 | No | No |\n",
       "| 9 | 33 | 1 | 2 | 4 | 8 | 0 | 1 | 3 | 6 | 6 | ... | 0 | 0 | 0 | 0 | 0 | 0 | 0 | 0 | No | No |\n",
       "| 11 | 10 | 1 | 4 | 3 | 3 | 1 | 4 | 1 | 4 | 7 | ... | 0 | 0 | 0 | 0 | 0 | 0 | 0 | 0 | No | No |\n",
       "\n"
      ],
      "text/plain": [
       "   MOSTYPE MAANTHUI MGEMOMV MGEMLEEF MOSHOOFD MGODRK MGODPR MGODOV MGODGE\n",
       "3  37      1        2       2        8        0      4      2      4     \n",
       "4   9      1        3       3        3        2      3      2      4     \n",
       "6  23      1        2       1        5        0      5      0      5     \n",
       "8  33      1        2       3        8        0      7      0      2     \n",
       "9  33      1        2       4        8        0      1      3      6     \n",
       "11 10      1        4       3        3        1      4      1      4     \n",
       "   MRELGE ... AGEZONG AWAOREG ABRAND AZEILPL APLEZIER AFIETS AINBOED ABYSTAND\n",
       "3  3      ... 0       0       1      0       0        0      0       0       \n",
       "4  5      ... 0       0       1      0       0        0      0       0       \n",
       "6  0      ... 0       0       0      0       0        0      0       0       \n",
       "8  7      ... 0       0       0      0       0        0      0       0       \n",
       "9  6      ... 0       0       0      0       0        0      0       0       \n",
       "11 7      ... 0       0       0      0       0        0      0       0       \n",
       "   Purchase y_pred\n",
       "3  No       No    \n",
       "4  No       No    \n",
       "6  No       No    \n",
       "8  No       No    \n",
       "9  No       No    \n",
       "11 No       No    "
      ]
     },
     "metadata": {},
     "output_type": "display_data"
    }
   ],
   "source": [
    "y_pred <- predict(knn, x_test, type=\"raw\")\n",
    "test_y_pred <- test %>% mutate('y_pred'=y_pred) \n",
    "head(test_y_pred)\n"
   ]
  },
  {
   "cell_type": "markdown",
   "metadata": {},
   "source": [
    "## Evaluation"
   ]
  },
  {
   "cell_type": "code",
   "execution_count": 25,
   "metadata": {},
   "outputs": [
    {
     "data": {
      "text/plain": [
       "Confusion Matrix and Statistics\n",
       "\n",
       "          Reference\n",
       "Prediction   No  Yes\n",
       "       No  1647   96\n",
       "       Yes    2    2\n",
       "                                          \n",
       "               Accuracy : 0.9439          \n",
       "                 95% CI : (0.9321, 0.9542)\n",
       "    No Information Rate : 0.9439          \n",
       "    P-Value [Acc > NIR] : 0.5268          \n",
       "                                          \n",
       "                  Kappa : 0.035           \n",
       "                                          \n",
       " Mcnemar's Test P-Value : <2e-16          \n",
       "                                          \n",
       "            Sensitivity : 0.99879         \n",
       "            Specificity : 0.02041         \n",
       "         Pos Pred Value : 0.94492         \n",
       "         Neg Pred Value : 0.50000         \n",
       "             Prevalence : 0.94390         \n",
       "         Detection Rate : 0.94276         \n",
       "   Detection Prevalence : 0.99771         \n",
       "      Balanced Accuracy : 0.50960         \n",
       "                                          \n",
       "       'Positive' Class : No              \n",
       "                                          "
      ]
     },
     "metadata": {},
     "output_type": "display_data"
    }
   ],
   "source": [
    "confusionMatrix(y_pred, y_test)"
   ]
  }
 ],
 "metadata": {
  "kernelspec": {
   "display_name": "R",
   "language": "R",
   "name": "ir"
  },
  "language_info": {
   "codemirror_mode": "r",
   "file_extension": ".r",
   "mimetype": "text/x-r-source",
   "name": "R",
   "pygments_lexer": "r",
   "version": "4.1.0"
  },
  "orig_nbformat": 4
 },
 "nbformat": 4,
 "nbformat_minor": 2
}
